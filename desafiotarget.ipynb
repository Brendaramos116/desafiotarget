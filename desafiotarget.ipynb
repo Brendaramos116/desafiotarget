{
  "nbformat": 4,
  "nbformat_minor": 0,
  "metadata": {
    "colab": {
      "provenance": [],
      "authorship_tag": "ABX9TyPIQpP7YJh2tjfVjwwjiM5B",
      "include_colab_link": true
    },
    "kernelspec": {
      "name": "python3",
      "display_name": "Python 3"
    },
    "language_info": {
      "name": "python"
    }
  },
  "cells": [
    {
      "cell_type": "markdown",
      "metadata": {
        "id": "view-in-github",
        "colab_type": "text"
      },
      "source": [
        "<a href=\"https://colab.research.google.com/github/Brendaramos116/desafiotarget/blob/main/desafiotarget.ipynb\" target=\"_parent\"><img src=\"https://colab.research.google.com/assets/colab-badge.svg\" alt=\"Open In Colab\"/></a>"
      ]
    },
    {
      "cell_type": "code",
      "source": [
        "#1) \n",
        "Indice = 13\n",
        "\n",
        "Soma = 0\n",
        "\n",
        "K = 0\n",
        "\n",
        "while K < Indice:\n",
        "\n",
        "   K = K + 1\n",
        "\n",
        "   Soma = Soma + K\n",
        "\n",
        "print (Soma)"
      ],
      "metadata": {
        "colab": {
          "base_uri": "https://localhost:8080/"
        },
        "id": "StEkt1yga2oC",
        "outputId": "5e921cfe-4327-4b55-d6d7-f20e8e58be19"
      },
      "execution_count": 21,
      "outputs": [
        {
          "output_type": "stream",
          "name": "stdout",
          "text": [
            "91\n"
          ]
        }
      ]
    },
    {
      "cell_type": "code",
      "execution_count": 16,
      "metadata": {
        "colab": {
          "base_uri": "https://localhost:8080/"
        },
        "id": "wER9lIe3-Wv8",
        "outputId": "26ac1ce2-6f72-45b4-d56e-31aed6cd8cf5"
      },
      "outputs": [
        {
          "output_type": "stream",
          "name": "stdout",
          "text": [
            "Digite um número: 13\n",
            "Sequência de Fibonacci até 13:\n",
            "[0, 1, 1]\n",
            "Sequência de Fibonacci até 13:\n",
            "[0, 1, 1, 2]\n",
            "Sequência de Fibonacci até 13:\n",
            "[0, 1, 1, 2, 3]\n",
            "Sequência de Fibonacci até 13:\n",
            "[0, 1, 1, 2, 3, 5]\n",
            "Sequência de Fibonacci até 13:\n",
            "[0, 1, 1, 2, 3, 5, 8]\n",
            "Sequência de Fibonacci até 13:\n",
            "[0, 1, 1, 2, 3, 5, 8, 13]\n",
            "O número 13 pertence à sequência de Fibonacci.\n"
          ]
        }
      ],
      "source": [
        "# 2) Dado a sequência de Fibonacci, onde se inicia por 0 e 1 e o próximo valor sempre será a soma dos 2 valores anteriores\n",
        "#(exemplo: 0, 1, 1, 2, 3, 5, 8, 13, 21, 34...), escreva um programa na linguagem que desejar onde, informado um número, \n",
        "#ele calcule a sequência de Fibonacci e retorne uma mensagem avisando se o número informado pertence ou não a sequência.\n",
        "\n",
        "def fibonacci(n):\n",
        "  fib = [0,1]\n",
        "\n",
        "  while len(fib) < n:\n",
        "    fib.append(fib[-1] + fib[-2])\n",
        "  return fib\n",
        "\n",
        "n = int(input(\"Digite um número: \"))\n",
        "fib = [0,1]\n",
        "\n",
        "while fib[-1] < n:\n",
        "  valor = fib[-1] + fib[-2]\n",
        "  fib.append(valor)\n",
        "  \n",
        "  print(f\"Sequência de Fibonacci até {n}:\")\n",
        "  print(fib)\n",
        "\n",
        "if fib[-1] > n:\n",
        "  fib.pop() \n",
        "\n",
        "  print(f\"Sequência de Fibonacci até {n}:\")\n",
        "  print(fib)\n",
        "\n",
        "\n",
        "if n in fib:\n",
        "  print(f\"O número {n} pertence à sequência de Fibonacci.\")\n",
        "else:\n",
        "  print(f\"O número {n} não pertence à sequência de Fibonacci.\")"
      ]
    },
    {
      "cell_type": "code",
      "source": [
        "#Dado um vetor que guarda o valor de faturamento diário de uma distribuidora, \n",
        "#faça um programa, na linguagem que desejar, que calcule e retorne:\n",
        "#• O menor valor de faturamento ocorrido em um dia do mês;\n",
        "#• O maior valor de faturamento ocorrido em um dia do mês;\n",
        "#• Número de dias no mês em que o valor de faturamento diário foi superior à média mensal.\n",
        "\n",
        "def calculo_faturamento(faturamento):\n",
        "  menor = faturamento [0]\n",
        "  maior = faturamento [0]\n",
        "  soma = 0\n",
        "  dias_maior_media = 0\n",
        "\n",
        "  for faturamento in vetor:\n",
        "    if faturamento < menor:\n",
        "      menor = faturamento\n",
        "    if faturamento > maior:\n",
        "      maior = faturamento\n",
        "    soma += faturamento\n",
        "    media = soma/len(vetor)\n",
        "    \n",
        "  for faturamento in vetor:\n",
        "      if faturamento < media:\n",
        "        dias_maior_media += 1      \n",
        "\n",
        "  return menor,maior,media,dias_maior_media\n",
        "\n",
        "vetor = [1000, 2000, 1500, 1200, 1800, 1100, 900, 1300, 1700, 1400, 1600, 1900,\n",
        "2500, 2200, 2800, 3000, 2900, 2600, 2800, 2700, 3100, 3200, 2900, 3000,\n",
        "2300, 2200, 1900, 1800, 2100, 2400]\n",
        "\n",
        "resposta = calculo_faturamento(vetor)\n",
        "\n",
        "print(\"Menor valor de faturamento:\", resposta[0])\n",
        "print(\"Maior valor de faturamento:\", resposta[1])\n",
        "print(\"Dias com faturamento supeior a media:\", resposta[2])\n"
      ],
      "metadata": {
        "colab": {
          "base_uri": "https://localhost:8080/"
        },
        "id": "O9kyN4HDIkkR",
        "outputId": "163aef76-b28b-4cfd-b7b3-df4bb51e28ec"
      },
      "execution_count": 39,
      "outputs": [
        {
          "output_type": "stream",
          "name": "stdout",
          "text": [
            "Menor valor de faturamento: 900\n",
            "Maior valor de faturamento: 3200\n",
            "Dias com faturamento supeior a media: 2126.6666666666665\n"
          ]
        }
      ]
    },
    {
      "cell_type": "code",
      "source": [
        "#4) Dado o valor de faturamento mensal de uma distribuidora, detalhado por estado:\n",
        "\n",
        "#SP – R$67.836,43\n",
        "#RJ – R$36.678,66\n",
        "#MG – R$29.229,88\n",
        "#ES – R$27.165,48\n",
        "#Outros – R$19.849,53\n",
        "\n",
        "#Escreva um programa na linguagem que desejar onde calcule o percentual de representação \n",
        "#que cada estado teve dentro do valor total mensal da distribuidora.\n",
        "\n",
        "SP = float(67.83643)\n",
        "RJ = float(36.67866)\n",
        "MG = float(29.22988)\n",
        "ES = float(27.16548)\n",
        "Outros = float(19.84953)\n",
        "faturamento = (SP + RJ + MG + ES + Outros)\n",
        "\n",
        "print(faturamento)\n",
        "\n",
        "FSP = ((SP/faturamento)*100)\n",
        "FRJ = ((RJ/faturamento)*100)\n",
        "FMG = ((MG/faturamento)*100)\n",
        "FES = ((ES/faturamento)*100)\n",
        "FOut = ((Outros/faturamento)*100)\n",
        "\n",
        "print('Porcentagem de SP {}'.format(FSP))\n",
        "print('Porcentagem de RJ {}'.format(FRJ))\n",
        "print('Porcentagem de MG {}'.format(FMG))\n",
        "print('Porcentagem de ES {}'.format(FES))\n",
        "print('Porcentagem de Outros {}'.format(FOut))\n"
      ],
      "metadata": {
        "colab": {
          "base_uri": "https://localhost:8080/"
        },
        "id": "2QhCGu6qOQHa",
        "outputId": "6857e230-764e-49dc-8a1d-3c4597c9240d"
      },
      "execution_count": 17,
      "outputs": [
        {
          "output_type": "stream",
          "name": "stdout",
          "text": [
            "180.75997999999998\n",
            "Porcentagem de SP 37.52845624346717\n",
            "Porcentagem de RJ 20.291360952794975\n",
            "Porcentagem de MG 16.170548370275327\n",
            "Porcentagem de ES 15.02848141496807\n",
            "Porcentagem de Outros 10.98115301849447\n"
          ]
        }
      ]
    },
    {
      "cell_type": "code",
      "source": [
        "#5) Escreva um programa que inverta os caracteres de um string.\n",
        "\n",
        "string = \"codigo\"[::-1]\n",
        "print(string)"
      ],
      "metadata": {
        "colab": {
          "base_uri": "https://localhost:8080/"
        },
        "id": "hjFMhSF7RjxD",
        "outputId": "9b31f3b9-546b-4c17-a2c7-6c00da733901"
      },
      "execution_count": 19,
      "outputs": [
        {
          "output_type": "stream",
          "name": "stdout",
          "text": [
            "ogidoc\n"
          ]
        }
      ]
    }
  ]
}